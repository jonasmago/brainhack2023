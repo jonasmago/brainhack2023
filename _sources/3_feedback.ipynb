{
 "cells": [
  {
   "cell_type": "markdown",
   "id": "39a4a82e",
   "metadata": {},
   "source": [
    "(feedback)=\n",
    "# Feedback from the final presentation \n",
    "- visualise things in MRIcroGL, soon implemented in nilearn as `niview`\n",
    "- change my pearson-r values to [-1, 1] (currently [-100,100])\n",
    "- for comparing nilearn and spm beta maps: specify not-matched. E.g.:\n",
    "   - between software, within subject, within contrast, within run \n",
    "   - between software, between subject, between contrast, between run \n",
    "- feature selection must be either on (A) train set or (B) integrated in cross-validation. Make sure it's not selecting featuers on the entier dataset --> danger of overfitting!\n",
    "- r2 is a measure for the percentage of variance explained. Not relevant here, thus, remove it. \n",
    "- explain permutation test for significance testing.\n",
    "- apply the classifer on beta maps per trials (there are 10 trials per run). I can use ROIs or entire beta masks. The model will take care of the many variables. \n",
    "- try a searchlight appraoch: train a classifer on different ROIs or voxels and then compare the accuracy. This could lead to a accuracy map with voxel resolution, however, this is computationally expensive. \n",
    "- it's important to  **de-mean** my data before doing this (e.g. use z-score). \n",
    "- look into **stratified cross validation** to deal with multiple runs per subject in the classifier. If I use stratification this shouldn't be a problem."
   ]
  }
 ],
 "metadata": {
  "jupytext": {
   "cell_metadata_filter": "-all",
   "formats": "md:myst",
   "text_representation": {
    "extension": ".md",
    "format_name": "myst",
    "format_version": 0.13,
    "jupytext_version": "1.10.3"
   }
  },
  "kernelspec": {
   "display_name": "Python 3",
   "language": "python",
   "name": "python3"
  },
  "language_info": {
   "codemirror_mode": {
    "name": "ipython",
    "version": 3
   },
   "file_extension": ".py",
   "mimetype": "text/x-python",
   "name": "python",
   "nbconvert_exporter": "python",
   "pygments_lexer": "ipython3",
   "version": "3.8.8"
  },
  "source_map": [
   14
  ]
 },
 "nbformat": 4,
 "nbformat_minor": 5
}