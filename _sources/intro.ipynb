{
 "cells": [
  {
   "cell_type": "markdown",
   "id": "9a63673d",
   "metadata": {},
   "source": [
    "(intro)=\n",
    "# Introduction\n",
    "\n",
    "<div style=\"text-align: left;\">\n",
    "<a href=\"https://github.com/jonasmago\">\n",
    "   <img src=\"https://avatars.githubusercontent.com/u/57872952?s=400&u=6d910b22810b2a9d1f24be397cc71a279db91c87&v=4\" width=\"150px;\" alt=\"\"/>\n",
    "   <br /><sub><b>Jonas Mago</b></sub>\n",
    "</a>\n",
    "</div>\n",
    "\n",
    "\n",
    "This is the `jupyter book` presentation of my work during [Brainhack2023](https://school-brainhack.github.io/). The complete presentation of my results as well as the replicable source code can be found [here](https://github.com/brainhack-school2023/jonas_project) \n",
    "\n",
    "\n",
    "![task](./img/tulpa.jpg)\n",
    "![task](./img/deities.jpg)\n",
    "![task](./img/brain.png)\n",
    "\n",
    "\n",
    "\n",
    "```{warning}\n",
    "You can also find all the code used for the results in this [github repo](https://github.com/brainhack-school2023/jonas_project.git).\n",
    "```\n",
    "\n",
    "\n",
    "## Background\n",
    "\n",
    "Tulpamancy is an intriguing psychological and sociocultural phenomenon that presents novel opportunities for neuroimaging research. Derived from Tibetan Buddhist practices, the term \"Tulpa\" refers to a self-induced, autonomous mental companion created through focused thought and mental conditioning. Individuals who engage in this practice, known as Tulpamancers, report a range of experiences that suggest Tulpas operate independently of the host's conscious control, often possessing their distinct personality, preferences, and perceptual experiences.\n",
    "\n",
    "Tulpas are not viewed as hallucinations but rather as fully-fledged conscious entities sharing the same neurological space as the host. The creation and interaction with Tulpas require intense concentration and visualization, often leading to the creation of a mentally constructed realm, called a \"wonderland,\" where Tulpamancers and their Tulpas can interact.\n",
    "\n",
    "Tulpamancy provides a unique framework to explore the capacities of the human mind in creating and perceiving conscious entities. This has substantial implications for our understanding of consciousness, agency, and the malleability of perception. Moreover, it brings forward questions about the neurological underpinnings of these phenomena. How does the brain of a Tulpamancer accommodate multiple conscious entities? Can we observe a distinct neurophysiological pattern associated with the presence of a Tulpa\n",
    "\n",
    "Through neuroimaging, we aim to investigate these questions, seeking to shed light on the intriguing practice of Tulpamancy and its implications for our understanding of the human mind and consciousness.\n",
    "\n",
    "To get a better understanding of Tulpamancy you can check the following [video](https://www.youtube.com/watch?v=f3nf6NOPyr8). The video summarises the most important tipps for creating tulpas. These tipps are sourced from the reddit thread [`r/tulpas`](https://www.reddit.com/r/Tulpas/).\n",
    "\n",
    "\n",
    "## Deliverables\n",
    "\n",
    "In addition to the deliverables below, you can find a more extensive report of this project on this [website](https://jonasmago.github.io/brainhack2023/intro.html).\n",
    "\n",
    "<div style=\"text-align: center;\">\n",
    "   <a href=\"https://jonasmago.com\">\n",
    "      <img src=\"img/logos.png\" width=\"600px;\" alt=\"\"/>\n",
    "   </a>\n",
    "</div>\n",
    "\n",
    "[![CC BY 4.0][cc-by-image]][cc-by] This work is licensed under a\n",
    "[Creative Commons Attribution 4.0 International License][cc-by].\n",
    "\n",
    "[cc-by-image]: https://i.creativecommons.org/l/by/4.0/88x31.png\n",
    "\n",
    "[cc-by]: http://creativecommons.org/licenses/by/4.0/"
   ]
  }
 ],
 "metadata": {
  "jupytext": {
   "cell_metadata_filter": "-all",
   "formats": "md:myst",
   "text_representation": {
    "extension": ".md",
    "format_name": "myst",
    "format_version": 0.13,
    "jupytext_version": "1.10.3"
   }
  },
  "kernelspec": {
   "display_name": "Python 3",
   "language": "python",
   "name": "python3"
  },
  "language_info": {
   "codemirror_mode": {
    "name": "ipython",
    "version": 3
   },
   "file_extension": ".py",
   "mimetype": "text/x-python",
   "name": "python",
   "nbconvert_exporter": "python",
   "pygments_lexer": "ipython3",
   "version": "3.8.8"
  },
  "source_map": [
   14
  ]
 },
 "nbformat": 4,
 "nbformat_minor": 5
}