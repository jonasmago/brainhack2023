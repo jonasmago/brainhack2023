{
 "cells": [
  {
   "cell_type": "markdown",
   "id": "1f6057a0",
   "metadata": {},
   "source": [
    "(todo)=\n",
    "# My to-do list \n",
    "* [X] preprocess the fMRI data with fmriprep\n",
    "* [X] run GLMs using SPM for the first level and FSL Randomise for the second level \n",
    "* [X] replicate GLM in Nilearn \n",
    "   * [X] replicate a GLM in Nilearn \n",
    "   * [X] compute the correlation between first-level beta maps in the SPM and Nilearn analysis \n",
    "   * [ ] replicate the Nilearn GLM with the exact same parameters as in SPM \n",
    "      * fd_threshold = 1 (default is 0.5mm)\n",
    "      * change from `load_confound_strategy` to `load_confound`as it's more custamizable and allows to match parameters of SPM.\n",
    "      * check if I used a high pass filter in SPM, if not deactivate it in Nilearn.\n",
    "      * check if I standardized in SPM, if not deactivte it in Nilearn.\n",
    "   * [ ] Cluster correct the Nilearn second-level contrasts using [`cluster_level-inference`](https://nilearn.github.io/dev/modules/generated/nilearn.glm.cluster_level_inference.html#nilearn.glm.cluster_level_inference).\n",
    "   * [ ] re-run the GLMs including a brain mask that excludes the cerebellum and brain stem. As we are not interested in the analysis of these regions their exclusion is legit. I can use a mask from brainvolt that I can [download here](https://neurovault.org/collections/6196/).\n",
    "* [X] connectivity analysis \n",
    "   * [X] compute connectome for all conditions and save as `.npy`\n",
    "   * [ ] compute `graph theory` metrics to characterise and compare the connectomes. François Paugam recommended to look into the [Networks of the Brain](http://www.cs.cmu.edu/~saketn/files/Sporns_Book.pdf) as an introduction.\n",
    "* [X] compute seed-to-voxel correlations \n",
    "* [X] ML classifier \n",
    "   * [X] ML classifier on connectomes \n",
    "   * [ ] ML classifier on seed-to-voxel maps \n",
    "   * [ ] ML classifier on the average activity for each of the 10 trials (not entire runs) cropped to an ROI in the SMA\n",
    "* [X] Deep Neural Network Decoder using PyTorch"
   ]
  }
 ],
 "metadata": {
  "jupytext": {
   "cell_metadata_filter": "-all",
   "formats": "md:myst",
   "text_representation": {
    "extension": ".md",
    "format_name": "myst",
    "format_version": 0.13,
    "jupytext_version": "1.10.3"
   }
  },
  "kernelspec": {
   "display_name": "Python 3",
   "language": "python",
   "name": "python3"
  },
  "language_info": {
   "codemirror_mode": {
    "name": "ipython",
    "version": 3
   },
   "file_extension": ".py",
   "mimetype": "text/x-python",
   "name": "python",
   "nbconvert_exporter": "python",
   "pygments_lexer": "ipython3",
   "version": "3.8.8"
  },
  "source_map": [
   14
  ]
 },
 "nbformat": 4,
 "nbformat_minor": 5
}