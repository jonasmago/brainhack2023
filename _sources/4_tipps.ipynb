{
 "cells": [
  {
   "cell_type": "markdown",
   "id": "d4a35d40",
   "metadata": {},
   "source": [
    "(tipps)=\n",
    "# Tipps and Tricks\n",
    "**useful hacks, and notes for next iterations of this project**\n",
    "- Plotting results\n",
    "   - [plotly](https://plotly.com/)\n",
    "   - histograms are powerful because they don't collapse either time or space \n",
    "   - raindrop plots are powerful as they show all individual points \n",
    "   - examples in the [python graph gallery](https://www.python-graph-gallery.com/)\n",
    "- Python virtual environment\n",
    "   - To make and actiavte a python virtual environment, use the following two lines:\n",
    "      - `python3 -m venv venv`\n",
    "      - `source venv/bin/activate`\n",
    "   - To generate a `requirements.txt` file\n",
    "      - Option 1: `pip freeze`.\n",
    "      - Option 2: [Pipreqs](https://pypi.org/project/pipreqs/) automatically detects what libraries are actually used in a codebase. \n",
    "- Python local pip install \n",
    "   - make sure to have an __init__.py file in the src directory \n",
    "   - also make sure to have a setup.py file\n",
    "   - Navigate to root directory and run: `pip install -e .`\n",
    "- Python ipykernal allows to install kernals from python and conda environments \n",
    "   - `python -m ipykernel install --user --name=<my_env>`\n",
    "- VIM: create and edit python files in the Terminal\n",
    "   - `vim <file name>.py` \n",
    "   - `%s` search and replace\n",
    "   - `i` insertion mode\n",
    "   - doesn't leave a mess in the terminal after closing\n",
    "   - alternative to `vim` is `nano`\n",
    "- [Cookiecutter](https://www.cookiecutter.io/templates) as template for repos. \n",
    "   - [Teamplate for neuroimaging](https://github.com/patrickmineault/true-neutral-cookiecutter).\n",
    "- Debugging scripst\n",
    "   - `breakpoint()`can replace `import pdb; pdb.set_trace()``\n",
    "   - `python -m pdb <script name>` runs a script with pdb. press `c` for continue when the script is loaded. This will allow you to be in the pdb when the code crashes. \n",
    "- [Neuro Maps](https://netneurolab.github.io/neuromaps/user_guide/nulls.html) allows to compare the pearsonr and p-value between two nifti files \n",
    "- The [Good Research Blog](https://goodresearch.dev/setup.html#install-a-project-package) shows how to do a local pip install (and much more)\n",
    "- writing good code \n",
    "   - github copilot \n",
    "   - [sourcery](https://sourcery.ai/) automatically suggests improvements \n",
    "   - can I describe the function in **one** line\n",
    "\n",
    "## About the Author\n",
    "- `Name`: Jonas Mago\n",
    "- `Contact`: jonas.h.mago@gmail.com\n",
    "- `Affiliation`: McGill University\n",
    "- `Background`: My background is in neuroimaging (EEG, fMRI), cognitive sciecnes, Active Inference, and Philosophy. After a BA in Liberal Arts and Sciences at the University College at Maastricht University and an MSc in Mind, Language, and Embodied Cognition at the University of Edinburgh, I am now pursuing my PhD at McGill University. \n",
    "- `General Interests`: I am using the Active Infernece framework to study the predictive and bayesian mechanics undrelying contemplative practices such as prayer, meditation, and psychedlics. Specifically, I work with (A) expert meditators from the Theravaden tradition that are able to enter absorption states called Jhana at will, (B) Charismatic Christian Prayer practitioners, and (C) experiences of entity encounters under the influnece of DMT. \n",
    "\n",
    "<div style=\"text-align: center;\">\n",
    "<a href=\"https://github.com/jonasmago\">\n",
    "   <img src=\"https://avatars.githubusercontent.com/u/57872952?s=400&u=6d910b22810b2a9d1f24be397cc71a279db91c87&v=4\" width=\"150px;\" alt=\"\"/>\n",
    "   <br /><sub><b>Jonas Mago</b></sub>\n",
    "</a>\n",
    "</div>"
   ]
  }
 ],
 "metadata": {
  "jupytext": {
   "cell_metadata_filter": "-all",
   "formats": "md:myst",
   "text_representation": {
    "extension": ".md",
    "format_name": "myst",
    "format_version": 0.13,
    "jupytext_version": "1.10.3"
   }
  },
  "kernelspec": {
   "display_name": "Python 3",
   "language": "python",
   "name": "python3"
  },
  "language_info": {
   "codemirror_mode": {
    "name": "ipython",
    "version": 3
   },
   "file_extension": ".py",
   "mimetype": "text/x-python",
   "name": "python",
   "nbconvert_exporter": "python",
   "pygments_lexer": "ipython3",
   "version": "3.8.8"
  },
  "source_map": [
   14
  ]
 },
 "nbformat": 4,
 "nbformat_minor": 5
}