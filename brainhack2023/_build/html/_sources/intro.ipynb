{
 "cells": [
  {
   "cell_type": "markdown",
   "id": "2296548c",
   "metadata": {},
   "source": [
    "(intro)=\n",
    "# Introduction\n",
    "\n",
    "```{admonition} Too long; didn't read\n",
    ":class: tip\n",
    "There will be a lot more content here soon. \n",
    "```\n",
    "\n",
    "\n",
    "[![CC BY 4.0][cc-by-image]][cc-by] This work is licensed under a\n",
    "[Creative Commons Attribution 4.0 International License][cc-by], except for the logo, which was purchased with rights for unlimited web distribution by P. Bellec from [shutterstock ID 1427368160](https://shutterstock.com/image-vector/procrastinating-woman-sitting-office-her-legs-1427368160), and the image of Celeste, which is a Fan-art by [GomiGomiPomi](https://gomigomipomi.tumblr.com) reproduced with permission from the author (_Usage of my drawings is allowed as long as proper credits are given and it's not for commercial purposes_).\n",
    "\n",
    "[cc-by-image]: https://i.creativecommons.org/l/by/4.0/88x31.png\n",
    "\n",
    "[cc-by]: http://creativecommons.org/licenses/by/4.0/"
   ]
  }
 ],
 "metadata": {
  "jupytext": {
   "cell_metadata_filter": "-all",
   "formats": "md:myst",
   "text_representation": {
    "extension": ".md",
    "format_name": "myst",
    "format_version": 0.13,
    "jupytext_version": "1.10.3"
   }
  },
  "kernelspec": {
   "display_name": "Python 3",
   "language": "python",
   "name": "python3"
  },
  "language_info": {
   "codemirror_mode": {
    "name": "ipython",
    "version": 3
   },
   "file_extension": ".py",
   "mimetype": "text/x-python",
   "name": "python",
   "nbconvert_exporter": "python",
   "pygments_lexer": "ipython3",
   "version": "3.8.8"
  },
  "source_map": [
   14
  ]
 },
 "nbformat": 4,
 "nbformat_minor": 5
}